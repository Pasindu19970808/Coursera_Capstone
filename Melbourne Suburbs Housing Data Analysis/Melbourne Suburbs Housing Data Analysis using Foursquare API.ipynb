{
 "cells": [
  {
   "cell_type": "markdown",
   "metadata": {},
   "source": [
    "<h1> Finding Similar Clusters of Suburbs in Melbourne Australia </h1>"
   ]
  },
  {
   "cell_type": "markdown",
   "metadata": {},
   "source": [
    "<h2> Introduction </h2> "
   ]
  },
  {
   "cell_type": "markdown",
   "metadata": {},
   "source": [
    "Melbourne is a popular destination in Australia for immigrants to settled down in and also for locals to move to due to it's vast amount of facilities and ever growing opportunities for career and education. Hence it provides an ideal location for an individual to settled down with a family. \n",
    "\n",
    "In this project we aim to use the FourSquare API along with the dataset for melbourne housing prices taken from this [kaggle site](https://www.kaggle.com/anthonypino/melbourne-housing-market/version/21). The Foursquare API will be used to find the most popular venue categories in each suburb in the dataset. The dataset from kaggle will be used to find the average housing price for each suburb. \n",
    "\n",
    "Using the number of each venue category in each suburb and the average price of a house of each suburb, we shall build linear regression model to find which venue category has the largest impact on price of a house.\n",
    "\n",
    "We shall also use KMeans Clustering on the suburbs to find the similar suburbs based on the venues in each suburb. Theoritically similar suburbs would have similar housing prices. This will be investigated in the project."
   ]
  },
  {
   "cell_type": "markdown",
   "metadata": {},
   "source": [
    "<h2> How this project helps users </h2>"
   ]
  },
  {
   "cell_type": "markdown",
   "metadata": {},
   "source": [
    "This project serves multiple purposes:\n",
    "\n",
    "- Allows a user to identify the venue categories in each suburb that they would like to move into. If Price of house isnt a barrier, they may select the suburb with the most appealing characteristics. \n",
    "- Allows a user to find which venue categories have the largest impact on the price of a house. \n",
    "- Allows users to identify cheaper suburbs with similar sorrounding facilties.\n",
    "- In the case that a prospective buyer is quoted a High Price, he/she may always refer to this analysis to bargain for a better price"
   ]
  },
  {
   "cell_type": "markdown",
   "metadata": {},
   "source": [
    "Data Used:\n",
    "- Foursquare API location data\n",
    "- Housing Price dataset from this [site](https://www.kaggle.com/anthonypino/melbourne-housing-market/version/21)"
   ]
  },
  {
   "cell_type": "code",
   "execution_count": null,
   "metadata": {},
   "outputs": [],
   "source": []
  }
 ],
 "metadata": {
  "kernelspec": {
   "display_name": "Python 3",
   "language": "python",
   "name": "python3"
  },
  "language_info": {
   "codemirror_mode": {
    "name": "ipython",
    "version": 3
   },
   "file_extension": ".py",
   "mimetype": "text/x-python",
   "name": "python",
   "nbconvert_exporter": "python",
   "pygments_lexer": "ipython3",
   "version": "3.7.3"
  }
 },
 "nbformat": 4,
 "nbformat_minor": 2
}
